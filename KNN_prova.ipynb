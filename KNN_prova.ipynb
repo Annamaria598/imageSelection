{
 "cells": [
  {
   "cell_type": "code",
   "execution_count": 1,
   "metadata": {},
   "outputs": [],
   "source": [
    "from classificazione_knn import image_to_data, colimage_to_classes, local_entropy, classes_to_colimage, postprocessing_classes\n",
    "from sklearn.neighbors import KNeighborsClassifier\n",
    "import numpy as np\n",
    "import imageio\n",
    "import matplotlib.pyplot as plt"
   ]
  },
  {
   "cell_type": "code",
   "execution_count": 2,
   "metadata": {},
   "outputs": [],
   "source": [
    "# variabili per questo modello\n",
    "window_size = 30\n",
    "neighbors = 50\n",
    "window_size_postprocessing = 3"
   ]
  },
  {
   "cell_type": "code",
   "execution_count": 3,
   "metadata": {
    "scrolled": true
   },
   "outputs": [
    {
     "name": "stdout",
     "output_type": "stream",
     "text": [
      "CPU times: user 35.2 s, sys: 89 ms, total: 35.3 s\n",
      "Wall time: 35.3 s\n"
     ]
    }
   ],
   "source": [
    "%time layers = image_to_data(\"img/pelle303R.PNG\", size=window_size)"
   ]
  },
  {
   "cell_type": "code",
   "execution_count": 4,
   "metadata": {},
   "outputs": [],
   "source": [
    "def select_layers(layers, feature_names=[]):\n",
    "    \n",
    "    if len(feature_names) == 0:\n",
    "        feature_names = [\n",
    "            \n",
    "            #\"R\", \"G\", \"B\",\n",
    "            #\"R_mf\", \"G_mf\", \"B_mf\",\n",
    "            #\"R_edge\", \"G_edge\", \"B_edge\",\n",
    "            #\"R_variance\", \"G_variance\", \"B_variance\",\n",
    "\n",
    "            #\"L\", \"a\", \"b\",\n",
    "            #\"L_mf\", \"a_mf\", \"b_mf\",\n",
    "            #\"L_edge\", \"a_edge\", \"b_edge\",\n",
    "            #\"L_variance\", \"a_variance\", \"b_variance\",\n",
    "\n",
    "            \"h\", \"s\", \"v\",\n",
    "            \"h_mf\", \"s_mf\", \"v_mf\",\n",
    "            #\"h_edge\", \"s_edge\", \"v_edge\",\n",
    "            #\"h_variance\", \"s_variance\", \"v_variance\",\n",
    "\n",
    "            \"entropy\"\n",
    "        ]\n",
    "    \n",
    "    selected = [layers[fn] for fn in feature_names]\n",
    "    \n",
    "    # Unisco i vettori di features in una matrice\n",
    "    # con una riga per featur ed una colonna per pixel\n",
    "    X = np.stack([l.ravel() for l in selected])\n",
    "\n",
    "    # Traspongo perchè voglio colonne per features\n",
    "    # e righe per pixel\n",
    "    return X.T"
   ]
  },
  {
   "cell_type": "code",
   "execution_count": 5,
   "metadata": {},
   "outputs": [],
   "source": [
    "X = select_layers(layers)"
   ]
  },
  {
   "cell_type": "code",
   "execution_count": 6,
   "metadata": {},
   "outputs": [],
   "source": [
    "# Estrarre le etichette per questi dati dall'immagine colorata pelle3_colors.png\n",
    "y = colimage_to_classes(\"img/pelle303R_colors.PNG\")"
   ]
  },
  {
   "cell_type": "code",
   "execution_count": 7,
   "metadata": {},
   "outputs": [],
   "source": [
    "# Usiamo una seconda immagine come test\n",
    "test_layers = image_to_data(\"img/pelle305R.PNG\", size=window_size)\n",
    "X_test = select_layers(test_layers)\n",
    "y_test = colimage_to_classes(\"img/pelle305R_colors.PNG\")"
   ]
  },
  {
   "cell_type": "code",
   "execution_count": 8,
   "metadata": {},
   "outputs": [],
   "source": [
    "# training di un KNN\n",
    "knn = KNeighborsClassifier(n_neighbors=neighbors)"
   ]
  },
  {
   "cell_type": "code",
   "execution_count": 9,
   "metadata": {},
   "outputs": [
    {
     "data": {
      "text/plain": [
       "KNeighborsClassifier(n_neighbors=50)"
      ]
     },
     "execution_count": 9,
     "metadata": {},
     "output_type": "execute_result"
    }
   ],
   "source": [
    "knn.fit(X, y)"
   ]
  },
  {
   "cell_type": "code",
   "execution_count": 10,
   "metadata": {},
   "outputs": [],
   "source": [
    "# scoring utilizzando il coefficiente di Matthews\n",
    "from sklearn.metrics import matthews_corrcoef"
   ]
  },
  {
   "cell_type": "code",
   "execution_count": null,
   "metadata": {},
   "outputs": [],
   "source": [
    "y_predette = knn.predict(X_test)"
   ]
  },
  {
   "cell_type": "code",
   "execution_count": null,
   "metadata": {},
   "outputs": [],
   "source": [
    "matthews_corrcoef(y_test, y_predette)"
   ]
  },
  {
   "cell_type": "code",
   "execution_count": null,
   "metadata": {},
   "outputs": [],
   "source": []
  },
  {
   "cell_type": "code",
   "execution_count": null,
   "metadata": {},
   "outputs": [],
   "source": [
    "test_img = imageio.imread(\"img/pelle305R_colors.PNG\")"
   ]
  },
  {
   "cell_type": "code",
   "execution_count": null,
   "metadata": {},
   "outputs": [],
   "source": [
    "img_predetta = classes_to_colimage(y_predette, test_img.shape)"
   ]
  },
  {
   "cell_type": "code",
   "execution_count": null,
   "metadata": {},
   "outputs": [],
   "source": [
    "plt.imshow(img_predetta)"
   ]
  },
  {
   "cell_type": "code",
   "execution_count": null,
   "metadata": {},
   "outputs": [],
   "source": [
    "y_postprocessing = postprocessing_classes(y_predette, test_img.shape, window_size_postprocessing)\n",
    "img_postprocessing = classes_to_colimage(y_postprocessing, test_img.shape)"
   ]
  },
  {
   "cell_type": "code",
   "execution_count": null,
   "metadata": {},
   "outputs": [],
   "source": [
    "plt.imshow(img_postprocessing)"
   ]
  },
  {
   "cell_type": "code",
   "execution_count": null,
   "metadata": {},
   "outputs": [],
   "source": [
    "matthews_corrcoef(y_test, y_postprocessing)"
   ]
  },
  {
   "cell_type": "code",
   "execution_count": null,
   "metadata": {},
   "outputs": [],
   "source": [
    "plt.imshow(test_img)"
   ]
  },
  {
   "cell_type": "code",
   "execution_count": null,
   "metadata": {},
   "outputs": [],
   "source": []
  }
 ],
 "metadata": {
  "kernelspec": {
   "display_name": "Python 3",
   "language": "python",
   "name": "python3"
  },
  "language_info": {
   "codemirror_mode": {
    "name": "ipython",
    "version": 3
   },
   "file_extension": ".py",
   "mimetype": "text/x-python",
   "name": "python",
   "nbconvert_exporter": "python",
   "pygments_lexer": "ipython3",
   "version": "3.8.3"
  }
 },
 "nbformat": 4,
 "nbformat_minor": 4
}
