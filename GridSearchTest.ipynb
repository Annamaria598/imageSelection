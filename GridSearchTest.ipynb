{
 "cells": [
  {
   "cell_type": "code",
   "execution_count": 1,
   "metadata": {},
   "outputs": [],
   "source": [
    "from classificazione_knn import image_to_data, colimage_to_classes, local_entropy, classes_to_colimage\n",
    "from sklearn.neighbors import KNeighborsClassifier\n",
    "from sklearn.metrics import matthews_corrcoef\n",
    "import numpy as np\n",
    "import imageio\n",
    "import matplotlib.pyplot as plt\n",
    "import csv"
   ]
  },
  {
   "cell_type": "code",
   "execution_count": 2,
   "metadata": {},
   "outputs": [],
   "source": [
    "# parametri per generazione features\n",
    "# per ogni combinazione possibile bisogna generare\n",
    "# le features. Per il momento solo la window size\n",
    "# è un parametro.\n",
    "window_size = [5, 15, 30]\n",
    "\n",
    "# subset di features da usare\n",
    "feature_set = [\n",
    "    [\"R\", \"G\", \"B\", \"R_mf\", \"G_mf\", \"B_mf\"],\n",
    "    [\"L\", \"a\", \"b\", \"L_mf\", \"a_mf\", \"b_mf\"],\n",
    "    [\"h\", \"s\", \"v\", \"h_mf\", \"s_mf\", \"v_mf\"],\n",
    "    [\"R\", \"G\", \"B\", \"R_mf\", \"G_mf\", \"B_mf\", \"R_edge\", \"G_edge\", \"B_edge\"],\n",
    "    [\"L\", \"a\", \"b\", \"L_mf\", \"a_mf\", \"b_mf\", \"L_edge\", \"a_edge\", \"b_edge\"],\n",
    "    [\"h\", \"s\", \"v\", \"h_mf\", \"s_mf\", \"v_mf\", \"h_edge\", \"s_edge\", \"v_edge\"],\n",
    "    [\"R\", \"G\", \"B\", \"R_mf\", \"G_mf\", \"B_mf\", \"R_variance\", \"G_variance\", \"B_variance\"],\n",
    "    [\"L\", \"a\", \"b\", \"L_mf\", \"a_mf\", \"b_mf\", \"L_variance\", \"a_variance\", \"b_variance\"],\n",
    "    [\"h\", \"s\", \"v\", \"h_mf\", \"s_mf\", \"v_mf\", \"h_variance\", \"s_variance\", \"v_variance\"],\n",
    "    [\"R\", \"G\", \"B\", \"R_mf\", \"G_mf\", \"B_mf\", \"R_edge\", \"G_edge\", \"B_edge\", \"R_variance\", \"G_variance\", \"B_variance\"],\n",
    "    [\"L\", \"a\", \"b\", \"L_mf\", \"a_mf\", \"b_mf\", \"L_edge\", \"a_edge\", \"b_edge\", \"L_variance\", \"a_variance\", \"b_variance\"],\n",
    "    [\"h\", \"s\", \"v\", \"h_mf\", \"s_mf\", \"v_mf\", \"h_edge\", \"s_edge\", \"v_edge\", \"h_variance\", \"s_variance\", \"v_variance\"],\n",
    "    [\"R\", \"G\", \"B\", \"R_mf\", \"G_mf\", \"B_mf\", \"entropy\"],\n",
    "    [\"L\", \"a\", \"b\", \"L_mf\", \"a_mf\", \"b_mf\", \"entropy\"],\n",
    "    [\"h\", \"s\", \"v\", \"h_mf\", \"s_mf\", \"v_mf\", \"entropy\"],\n",
    "    [\"R\", \"G\", \"B\", \"R_mf\", \"G_mf\", \"B_mf\", \"R_edge\", \"G_edge\", \"B_edge\", \"entropy\"],\n",
    "    [\"L\", \"a\", \"b\", \"L_mf\", \"a_mf\", \"b_mf\", \"L_edge\", \"a_edge\", \"b_edge\", \"entropy\"],\n",
    "    [\"h\", \"s\", \"v\", \"h_mf\", \"s_mf\", \"v_mf\", \"h_edge\", \"s_edge\", \"v_edge\", \"entropy\"],\n",
    "    [\"R\", \"G\", \"B\", \"R_mf\", \"G_mf\", \"B_mf\", \"R_variance\", \"G_variance\", \"B_variance\", \"entropy\"],\n",
    "    [\"L\", \"a\", \"b\", \"L_mf\", \"a_mf\", \"b_mf\", \"L_variance\", \"a_variance\", \"b_variance\", \"entropy\"],\n",
    "    [\"h\", \"s\", \"v\", \"h_mf\", \"s_mf\", \"v_mf\", \"h_variance\", \"s_variance\", \"v_variance\", \"entropy\"],\n",
    "    [\"R\", \"G\", \"B\", \"R_mf\", \"G_mf\", \"B_mf\", \"R_edge\", \"G_edge\", \"B_edge\", \"R_variance\", \"G_variance\", \"B_variance\", \"entropy\"],\n",
    "    [\"L\", \"a\", \"b\", \"L_mf\", \"a_mf\", \"b_mf\", \"L_edge\", \"a_edge\", \"b_edge\", \"L_variance\", \"a_variance\", \"b_variance\", \"entropy\"],\n",
    "    [\"h\", \"s\", \"v\", \"h_mf\", \"s_mf\", \"v_mf\", \"h_edge\", \"s_edge\", \"v_edge\", \"h_variance\", \"s_variance\", \"v_variance\", \"entropy\"],\n",
    "]\n",
    "\n",
    "# parametri per il knn\n",
    "neighbors = [5, 10, 25, 50, 100, 300]"
   ]
  },
  {
   "cell_type": "code",
   "execution_count": 3,
   "metadata": {},
   "outputs": [],
   "source": [
    "# Generazione dei layers per tutti i parametri riguardanti i dati\n",
    "for s in window_size:\n",
    "    # training data\n",
    "    data = image_to_data(\"img/pelle303R.PNG\", size=s)\n",
    "    \n",
    "    for key, value in data.items():\n",
    "        file_name = \"data_ws\" + str(s) + \"_\" + key + \".csv\"\n",
    "        with open(\"data/\" + file_name, \"w\") as f:\n",
    "            csvw = csv.writer(f)\n",
    "            csvw.writerows(value)\n",
    "            \n",
    "    # test data\n",
    "    data = image_to_data(\"img/pelle305R.PNG\", size=s)\n",
    "    \n",
    "    for key, value in data.items():\n",
    "        file_name = \"test_data_ws\" + str(s) + \"_\" + key + \".csv\"\n",
    "        with open(\"data/\" + file_name, \"w\") as f:\n",
    "            csvw = csv.writer(f)\n",
    "            csvw.writerows(value)"
   ]
  },
  {
   "cell_type": "code",
   "execution_count": 4,
   "metadata": {},
   "outputs": [],
   "source": [
    "# generazione delle classi per i pixel\n",
    "y = colimage_to_classes(\"img/pelle303R_colors.PNG\")\n",
    "\n",
    "# classi dei pixel per l'immagine di test\n",
    "y_test = colimage_to_classes(\"img/pelle305R_colors.PNG\")"
   ]
  },
  {
   "cell_type": "code",
   "execution_count": 5,
   "metadata": {},
   "outputs": [],
   "source": [
    "# Generazione dei jobs per i modelli da allenare\n",
    "from itertools import product\n",
    "\n",
    "jobs = list(product(window_size, feature_set, neighbors))"
   ]
  },
  {
   "cell_type": "code",
   "execution_count": 6,
   "metadata": {},
   "outputs": [
    {
     "data": {
      "text/plain": [
       "432"
      ]
     },
     "execution_count": 6,
     "metadata": {},
     "output_type": "execute_result"
    }
   ],
   "source": [
    "len(list(jobs))"
   ]
  },
  {
   "cell_type": "code",
   "execution_count": 7,
   "metadata": {},
   "outputs": [
    {
     "data": {
      "text/plain": [
       "(5, ['R', 'G', 'B', 'R_mf', 'G_mf', 'B_mf'], 5)"
      ]
     },
     "execution_count": 7,
     "metadata": {},
     "output_type": "execute_result"
    }
   ],
   "source": [
    "jobs[0]"
   ]
  },
  {
   "cell_type": "code",
   "execution_count": 8,
   "metadata": {},
   "outputs": [
    {
     "name": "stdout",
     "output_type": "stream",
     "text": [
      "ALL DONE.\n"
     ]
    }
   ],
   "source": [
    "from multiprocessing import Pool\n",
    "\n",
    "def train_model(job):\n",
    "    \n",
    "    # istanzio modello da allenare\n",
    "    knn = KNeighborsClassifier(job[2])\n",
    "    \n",
    "    # raccolgo i layers/features che mi interessano dai file csv\n",
    "    features = []\n",
    "    for feature in job[1]:\n",
    "        with open(\"data/data_ws{}_{}.csv\".format(job[0], feature)) as f:\n",
    "            csvr = csv.reader(f)\n",
    "            this_feature = []\n",
    "            for row in csvr:\n",
    "                this_feature.append(np.array(row, dtype=np.float64))\n",
    "            features.append(this_feature)\n",
    "    \n",
    "    features = np.array(features)\n",
    "    \n",
    "    # Unisco i vettori di features in una matrice\n",
    "    # con una riga per feature ed una colonna per pixel\n",
    "    X = np.stack([l.ravel() for l in features])\n",
    "\n",
    "    # Traspongo perchè voglio colonne per features\n",
    "    # e righe per pixel\n",
    "    X = X.T\n",
    "    \n",
    "    # inizio il training\n",
    "    knn.fit(X, y)\n",
    "    \n",
    "    # score con dati dell'immagine di test\n",
    "    # raccolgo i layers/features che mi interessano dai file csv\n",
    "    features = []\n",
    "    for feature in job[1]:\n",
    "        with open(\"data/test_data_ws{}_{}.csv\".format(job[0], feature)) as f:\n",
    "            csvr = csv.reader(f)\n",
    "            this_feature = []\n",
    "            for row in csvr:\n",
    "                this_feature.append(np.array(row, dtype=np.float64))\n",
    "            features.append(this_feature)\n",
    "    \n",
    "    features = np.array(features)\n",
    "    \n",
    "    # Unisco i vettori di features in una matrice\n",
    "    # con una riga per feature ed una colonna per pixel\n",
    "    X_test = np.stack([l.ravel() for l in features])\n",
    "\n",
    "    # Traspongo perchè voglio colonne per features\n",
    "    # e righe per pixel\n",
    "    X_test = X_test.T\n",
    "    \n",
    "    y_predette = knn.predict(X_test[:, :len(job[1])])\n",
    "    \n",
    "    score = matthews_corrcoef(y_test, y_predette)\n",
    "    \n",
    "    return score, job\n",
    "    \n",
    "\n",
    "if __name__ == '__main__':\n",
    "    with Pool(5) as p:\n",
    "        results = p.map(train_model, jobs[:2])\n",
    "        \n",
    "        with open(\"results.txt\", \"w\") as f:\n",
    "            f.write(\"score, window_size, features, neighbors\\n\")\n",
    "            for r in results:\n",
    "                f.write(str(r[0]) + \", \" + str(r[1][0]) + \", \" + str(r[1][1]) + \", \" + str(r[1][2]) + \"\\n\")\n",
    "                \n",
    "        print(\"ALL DONE.\")"
   ]
  },
  {
   "cell_type": "code",
   "execution_count": null,
   "metadata": {},
   "outputs": [],
   "source": []
  }
 ],
 "metadata": {
  "kernelspec": {
   "display_name": "Python 3",
   "language": "python",
   "name": "python3"
  },
  "language_info": {
   "codemirror_mode": {
    "name": "ipython",
    "version": 3
   },
   "file_extension": ".py",
   "mimetype": "text/x-python",
   "name": "python",
   "nbconvert_exporter": "python",
   "pygments_lexer": "ipython3",
   "version": "3.8.3"
  }
 },
 "nbformat": 4,
 "nbformat_minor": 4
}
